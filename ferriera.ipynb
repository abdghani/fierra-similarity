{
 "cells": [
  {
   "cell_type": "code",
   "execution_count": 1,
   "metadata": {},
   "outputs": [],
   "source": [
    "import numpy as np\n",
    "import pandas as pd\n",
    "from nltk.corpus import stopwords\n",
    "from nltk import word_tokenize\n",
    "from nltk.stem import WordNetLemmatizer\n",
    "from nltk.stem.porter import PorterStemmer\n",
    "from Levenshtein import distance\n",
    "from nltk.corpus import wordnet\n",
    "stmr = PorterStemmer() \n",
    "lmtzr = WordNetLemmatizer()"
   ]
  },
  {
   "cell_type": "code",
   "execution_count": 2,
   "metadata": {},
   "outputs": [],
   "source": [
    "skip_punc = [\",\",\".\",\"'\"]"
   ]
  },
  {
   "cell_type": "code",
   "execution_count": 3,
   "metadata": {},
   "outputs": [],
   "source": [
    "# LEXICAL SIMILARTY HELPER FUNCTIONS\n",
    "def pre_lex(sent):\n",
    "    '''\n",
    "        Preprocessing a sentence \n",
    "        - word tokeinize\n",
    "        - stemming\n",
    "        - lemmatizing\n",
    "        - remove stop words\n",
    "    '''\n",
    "    def pre_lex_aux(word):\n",
    "        return 'not' if word == \"n't\" else word\n",
    "    stp_words = stopwords.words('english') + skip_punc\n",
    "    tokens = [lmtzr.lemmatize(stmr.stem(pre_lex_aux(_word))) for _word in word_tokenize(sent) \n",
    "              if _word not in stp_words]\n",
    "    return(tokens)\n"
   ]
  },
  {
   "cell_type": "code",
   "execution_count": 4,
   "metadata": {},
   "outputs": [],
   "source": [
    "def word_similarity(w1,w2):\n",
    "    '''\n",
    "       similarity between two words\n",
    "       - LevenshteinDistance between two words w1 and w2 is number of swaps(insertion,deletion) \n",
    "            done to transform one word to another\n",
    "       - LevSimilarity = 1.0 − (LevenshteinDistance(word 1 , word 2 )/maxLength(word 1 , word 2 ))\n",
    "       - Word net Distance(Path measure) is the distance between the vectors of two words\n",
    "       - Here\n",
    "           if Path measure(word 1 , word 2 ) < 0.1 then\n",
    "            similarity = LevSimilarity(word 1 , word 2 )\n",
    "            else\n",
    "            similarity = Path measure(word 1 , word 2 )\n",
    "            end if\n",
    "    '''\n",
    "    \n",
    "    w1_syns = wordnet.synsets(w1)\n",
    "    w2_syns = wordnet.synsets(w2)\n",
    "    \n",
    "    # wnet_distance is taken as 0 for initial purpose \n",
    "    # considering the distance between words to be zero\n",
    "    wnet_distance = 0\n",
    "    \n",
    "    # distance is the LevenshteinDistance\n",
    "    _distance = distance(w1,w2)\n",
    "    rev_sim = 1-(_distance/max(len(w1),len(w2)))\n",
    "    \n",
    "    if w1_syns and w2_syns:\n",
    "        # If at all the the word is found in word net we \n",
    "        # considering the first matching\n",
    "        wnet_distance = w1_syns[0].path_similarity(w2_syns[0]) or 0\n",
    "    if wnet_distance < 0.1:\n",
    "        return rev_sim\n",
    "    else:\n",
    "        return wnet_distance\n",
    "    "
   ]
  },
  {
   "cell_type": "code",
   "execution_count": 5,
   "metadata": {},
   "outputs": [],
   "source": [
    "def get_similarity_matrix(str1,str2):\n",
    "    \"\"\"\n",
    "        Generate a similarity matrix for two strings\n",
    "        based on similarty mesurement for each word of \n",
    "        one matrix to another and vice-versa\n",
    "    \"\"\"\n",
    "    \n",
    "    sim_matrix = []\n",
    "    str_1 = pre_lex(str1)\n",
    "    str_2 = pre_lex(str2)\n",
    "    \n",
    "    for _word1 in str_1:\n",
    "        sim = []\n",
    "        for _word2 in str_2:\n",
    "            sim.append(word_similarity(_word1,_word2))\n",
    "        sim_matrix.append(sim)\n",
    "        \n",
    "    return np.matrix(sim_matrix)"
   ]
  },
  {
   "cell_type": "code",
   "execution_count": 6,
   "metadata": {},
   "outputs": [],
   "source": [
    "def get_max(df):\n",
    "    \"\"\"\n",
    "        delets the row and column where\n",
    "        maximun value is found\n",
    "    \"\"\"\n",
    "    ctr = 0 \n",
    "    max_all= df.values.max()\n",
    "    for _idx,_max in df.max().items():\n",
    "        ctr +=1\n",
    "        if _max == max_all:\n",
    "            for _idx2,_val in df[_idx].items():\n",
    "                if _val == max_all:\n",
    "                    df = df.drop(_idx2)\n",
    "                    break\n",
    "            df = df.drop(_idx,axis=1)\n",
    "            return df,max_all"
   ]
  },
  {
   "cell_type": "code",
   "execution_count": 7,
   "metadata": {},
   "outputs": [],
   "source": [
    "def lex_similarity(str1,str2):\n",
    "    \"\"\"\n",
    "        Lexical similarity of two strings\n",
    "        -   matrix = newmatrix(size(A)xsize(B))\n",
    "            total similarity = 0\n",
    "            iteration = 0\n",
    "            for bu i ∈ A do\n",
    "                for bu \u0004 j ∈ B do\n",
    "                    matrix(i, j) = similarity(ti,tj)\n",
    "                end for\n",
    "            end for\n",
    "            for has line(matrix) and has column(matrix) do\n",
    "                total similarity = total similarity + larger similarity(matrix)\n",
    "                remove line(matrix, larger similarity(matrix))\n",
    "                remove column(matrix, larger similarity(matrix))\n",
    "                iteration++\n",
    "            end for\n",
    "            partial similarity = total similarity/iteration\n",
    "            return partial similarity\n",
    "        - From the similarty matrix it find the maximum \n",
    "        - deletes the respective rows and column\n",
    "        - \n",
    "    \"\"\"\n",
    "    sim_matrix = get_similarity_matrix(str1,str2)\n",
    "    str_1 = pre_lex(str1)\n",
    "    str_2 = pre_lex(str2)\n",
    "    df = pd.DataFrame(data=sim_matrix[0:,0:])\n",
    "    sum_total = 0\n",
    "    iter = 0\n",
    "    for i in range(max(df.shape)):\n",
    "        df,max_val = get_max(df)\n",
    "        sum_total += max_val\n",
    "        iter +=1\n",
    "        if df.shape[0] == 0 or df.shape[1] == 0:\n",
    "            break\n",
    "    partial_similarity = sum_total/iter\n",
    "    \n",
    "    #size difference penalization coeff\n",
    "    sdpc = (abs(len(str_1)-len(str_2)))*partial_similarity/max(len(str_1),len(str_2))\n",
    "    return {\n",
    "            \"partial_similarity\":partial_similarity,\n",
    "            \"sdpc\":sdpc,\n",
    "            \"similarity\":partial_similarity-sdpc\n",
    "    }"
   ]
  },
  {
   "cell_type": "code",
   "execution_count": 8,
   "metadata": {},
   "outputs": [
    {
     "data": {
      "text/plain": [
       "{'partial_similarity': 1.0, 'sdpc': 0.2, 'similarity': 0.8}"
      ]
     },
     "execution_count": 8,
     "metadata": {},
     "output_type": "execute_result"
    }
   ],
   "source": [
    "str1 = \"Jane was unhappy because she had lost her job.\"\n",
    "str2 = \"As Jane had lost her job she was unhappy.\"\n",
    "str3 = \"James decided to quit smoking but it was not an easy decision.\"\n",
    "str4 = \"Though it was not an easy decision, James decided to quit smoking.\"\n",
    "str5 = \"James decided to quit smoking. However, it was not an easy decision.\"\n",
    "str6 = \"In spite of it not being an easy decision, James decided to quit smoking.\"\n",
    "str7 = \"I love Jupyter Notebook\";\n",
    "str8 = \"Jupyter Notebook is awesome\"\n",
    "lex_similarity(str1,str2)"
   ]
  },
  {
   "cell_type": "code",
   "execution_count": null,
   "metadata": {},
   "outputs": [],
   "source": []
  }
 ],
 "metadata": {
  "kernelspec": {
   "display_name": "Python 3",
   "language": "python",
   "name": "python3"
  },
  "language_info": {
   "codemirror_mode": {
    "name": "ipython",
    "version": 3
   },
   "file_extension": ".py",
   "mimetype": "text/x-python",
   "name": "python",
   "nbconvert_exporter": "python",
   "pygments_lexer": "ipython3",
   "version": "3.6.6"
  }
 },
 "nbformat": 4,
 "nbformat_minor": 2
}
